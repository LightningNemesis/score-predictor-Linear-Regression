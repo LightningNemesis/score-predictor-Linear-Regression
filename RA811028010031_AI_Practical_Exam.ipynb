{
  "nbformat": 4,
  "nbformat_minor": 0,
  "metadata": {
    "colab": {
      "name": "RA811028010031 - AI Practical Exam",
      "provenance": [],
      "collapsed_sections": [],
      "authorship_tag": "ABX9TyPs85ke3M8hoqMm4tGkcVKk",
      "include_colab_link": true
    },
    "kernelspec": {
      "name": "python3",
      "display_name": "Python 3"
    },
    "language_info": {
      "name": "python"
    }
  },
  "cells": [
    {
      "cell_type": "markdown",
      "metadata": {
        "id": "view-in-github",
        "colab_type": "text"
      },
      "source": [
        "<a href=\"https://colab.research.google.com/github/LightningNemesis/score-predictor-Linear-Regression/blob/main/RA811028010031_AI_Practical_Exam.ipynb\" target=\"_parent\"><img src=\"https://colab.research.google.com/assets/colab-badge.svg\" alt=\"Open In Colab\"/></a>"
      ]
    },
    {
      "cell_type": "markdown",
      "metadata": {
        "id": "47Ayq9lXNTRl"
      },
      "source": [
        "## Aim: Implementation of Linear Regression algorithm to predict students score using the given dataset. (students-score.csv)"
      ]
    },
    {
      "cell_type": "markdown",
      "metadata": {
        "id": "Ussw5ICxNk4S"
      },
      "source": [
        "#### Algorithm for prediction using Linear Regression model: \n",
        "\n",
        "1. Import the LinearRegression Library from Scikit learn which fits a linear model to minimize the residual sum of squares between the observed targets in the dataset, and the targets predicted.\n",
        "2.  Setup the Linear Regression Model, passing fit_intercept=True, as a param, indicating we need to calculate intercept for this model.\n",
        "3. Import the dataset from the csv file.\n",
        "4. Select the features and target from the dataset.\n",
        "5. Fit the model by passing the features & targets as parameters.\n",
        "5. Create a test data by extracting some data from the features (x).\n",
        "6. Predict the output by using the test data as parameters.\n",
        "7. Calculate the mean squared error by calculating the residuals between the predicted output and actual output.\n",
        "8. Print the accuracy score by passing the features and targets."
      ]
    },
    {
      "cell_type": "code",
      "metadata": {
        "id": "plrd8F0LEGPk"
      },
      "source": [
        "# Importing the necessary libraries\n",
        "from sklearn.linear_model import LinearRegression"
      ],
      "execution_count": 22,
      "outputs": []
    },
    {
      "cell_type": "code",
      "metadata": {
        "id": "LhBXtlOiEPe0"
      },
      "source": [
        "# Setting up Linear Regression model\n",
        "trainer=LinearRegression(fit_intercept=True)"
      ],
      "execution_count": 4,
      "outputs": []
    },
    {
      "cell_type": "code",
      "metadata": {
        "colab": {
          "base_uri": "https://localhost:8080/",
          "height": 824
        },
        "id": "MmSFjT2vEu5p",
        "outputId": "c3c0311d-2267-4a0f-ce2b-75798ee1bb4c"
      },
      "source": [
        "# Input of Data and Showing the Data\n",
        "import pandas as pd\n",
        "import numpy as np\n",
        "data = pd.read_csv(\"/content/student_scores - student_scores.csv\")\n",
        "data"
      ],
      "execution_count": 6,
      "outputs": [
        {
          "output_type": "execute_result",
          "data": {
            "text/html": [
              "<div>\n",
              "<style scoped>\n",
              "    .dataframe tbody tr th:only-of-type {\n",
              "        vertical-align: middle;\n",
              "    }\n",
              "\n",
              "    .dataframe tbody tr th {\n",
              "        vertical-align: top;\n",
              "    }\n",
              "\n",
              "    .dataframe thead th {\n",
              "        text-align: right;\n",
              "    }\n",
              "</style>\n",
              "<table border=\"1\" class=\"dataframe\">\n",
              "  <thead>\n",
              "    <tr style=\"text-align: right;\">\n",
              "      <th></th>\n",
              "      <th>Hours</th>\n",
              "      <th>Scores</th>\n",
              "    </tr>\n",
              "  </thead>\n",
              "  <tbody>\n",
              "    <tr>\n",
              "      <th>0</th>\n",
              "      <td>2.5</td>\n",
              "      <td>21</td>\n",
              "    </tr>\n",
              "    <tr>\n",
              "      <th>1</th>\n",
              "      <td>5.1</td>\n",
              "      <td>47</td>\n",
              "    </tr>\n",
              "    <tr>\n",
              "      <th>2</th>\n",
              "      <td>3.2</td>\n",
              "      <td>27</td>\n",
              "    </tr>\n",
              "    <tr>\n",
              "      <th>3</th>\n",
              "      <td>8.5</td>\n",
              "      <td>75</td>\n",
              "    </tr>\n",
              "    <tr>\n",
              "      <th>4</th>\n",
              "      <td>3.5</td>\n",
              "      <td>30</td>\n",
              "    </tr>\n",
              "    <tr>\n",
              "      <th>5</th>\n",
              "      <td>1.5</td>\n",
              "      <td>20</td>\n",
              "    </tr>\n",
              "    <tr>\n",
              "      <th>6</th>\n",
              "      <td>9.2</td>\n",
              "      <td>88</td>\n",
              "    </tr>\n",
              "    <tr>\n",
              "      <th>7</th>\n",
              "      <td>5.5</td>\n",
              "      <td>60</td>\n",
              "    </tr>\n",
              "    <tr>\n",
              "      <th>8</th>\n",
              "      <td>8.3</td>\n",
              "      <td>81</td>\n",
              "    </tr>\n",
              "    <tr>\n",
              "      <th>9</th>\n",
              "      <td>2.7</td>\n",
              "      <td>25</td>\n",
              "    </tr>\n",
              "    <tr>\n",
              "      <th>10</th>\n",
              "      <td>7.7</td>\n",
              "      <td>85</td>\n",
              "    </tr>\n",
              "    <tr>\n",
              "      <th>11</th>\n",
              "      <td>5.9</td>\n",
              "      <td>62</td>\n",
              "    </tr>\n",
              "    <tr>\n",
              "      <th>12</th>\n",
              "      <td>4.5</td>\n",
              "      <td>41</td>\n",
              "    </tr>\n",
              "    <tr>\n",
              "      <th>13</th>\n",
              "      <td>3.3</td>\n",
              "      <td>42</td>\n",
              "    </tr>\n",
              "    <tr>\n",
              "      <th>14</th>\n",
              "      <td>1.1</td>\n",
              "      <td>17</td>\n",
              "    </tr>\n",
              "    <tr>\n",
              "      <th>15</th>\n",
              "      <td>8.9</td>\n",
              "      <td>95</td>\n",
              "    </tr>\n",
              "    <tr>\n",
              "      <th>16</th>\n",
              "      <td>2.5</td>\n",
              "      <td>30</td>\n",
              "    </tr>\n",
              "    <tr>\n",
              "      <th>17</th>\n",
              "      <td>1.9</td>\n",
              "      <td>24</td>\n",
              "    </tr>\n",
              "    <tr>\n",
              "      <th>18</th>\n",
              "      <td>6.1</td>\n",
              "      <td>67</td>\n",
              "    </tr>\n",
              "    <tr>\n",
              "      <th>19</th>\n",
              "      <td>7.4</td>\n",
              "      <td>69</td>\n",
              "    </tr>\n",
              "    <tr>\n",
              "      <th>20</th>\n",
              "      <td>2.7</td>\n",
              "      <td>30</td>\n",
              "    </tr>\n",
              "    <tr>\n",
              "      <th>21</th>\n",
              "      <td>4.8</td>\n",
              "      <td>54</td>\n",
              "    </tr>\n",
              "    <tr>\n",
              "      <th>22</th>\n",
              "      <td>3.8</td>\n",
              "      <td>35</td>\n",
              "    </tr>\n",
              "    <tr>\n",
              "      <th>23</th>\n",
              "      <td>6.9</td>\n",
              "      <td>76</td>\n",
              "    </tr>\n",
              "    <tr>\n",
              "      <th>24</th>\n",
              "      <td>7.8</td>\n",
              "      <td>86</td>\n",
              "    </tr>\n",
              "  </tbody>\n",
              "</table>\n",
              "</div>"
            ],
            "text/plain": [
              "    Hours  Scores\n",
              "0     2.5      21\n",
              "1     5.1      47\n",
              "2     3.2      27\n",
              "3     8.5      75\n",
              "4     3.5      30\n",
              "5     1.5      20\n",
              "6     9.2      88\n",
              "7     5.5      60\n",
              "8     8.3      81\n",
              "9     2.7      25\n",
              "10    7.7      85\n",
              "11    5.9      62\n",
              "12    4.5      41\n",
              "13    3.3      42\n",
              "14    1.1      17\n",
              "15    8.9      95\n",
              "16    2.5      30\n",
              "17    1.9      24\n",
              "18    6.1      67\n",
              "19    7.4      69\n",
              "20    2.7      30\n",
              "21    4.8      54\n",
              "22    3.8      35\n",
              "23    6.9      76\n",
              "24    7.8      86"
            ]
          },
          "metadata": {
            "tags": []
          },
          "execution_count": 6
        }
      ]
    },
    {
      "cell_type": "code",
      "metadata": {
        "colab": {
          "base_uri": "https://localhost:8080/"
        },
        "id": "u1aNc_qPFAot",
        "outputId": "6f1ad90e-cd1e-4aa1-cb3f-eb30f820d4ce"
      },
      "source": [
        "# Selecting the Features and Targets\n",
        "features = data.iloc[:,:1]\n",
        "target = data.iloc[:,-1]\n",
        "\n",
        "print(features.head())\n",
        "print(\"-------------------\")\n",
        "print(target.head())"
      ],
      "execution_count": 15,
      "outputs": [
        {
          "output_type": "stream",
          "text": [
            "   Hours\n",
            "0    2.5\n",
            "1    5.1\n",
            "2    3.2\n",
            "3    8.5\n",
            "4    3.5\n",
            "-------------------\n",
            "0    21\n",
            "1    47\n",
            "2    27\n",
            "3    75\n",
            "4    30\n",
            "Name: Scores, dtype: int64\n"
          ],
          "name": "stdout"
        }
      ]
    },
    {
      "cell_type": "code",
      "metadata": {
        "colab": {
          "base_uri": "https://localhost:8080/"
        },
        "id": "7j9u48ZnFGRq",
        "outputId": "d0e248b3-c626-4e71-c34d-69bce850138a"
      },
      "source": [
        "# Fitting the model to Features & Target\n",
        "learner = trainer.fit(features,target)\n",
        "\n",
        "# Making a test data and doing the prediction\n",
        "test_data = features.iloc[:5]\n",
        "print('test_data:')\n",
        "print(test_data)\n",
        "print()\n",
        "\n",
        "print('predicted data:')\n",
        "print(learner.predict(test_data))\n",
        "print()\n",
        "\n",
        "print('test labels:')\n",
        "test_labels = data.iloc[:5,-1]\n",
        "print(test_labels)"
      ],
      "execution_count": 20,
      "outputs": [
        {
          "output_type": "stream",
          "text": [
            "test_data:\n",
            "   Hours\n",
            "0    2.5\n",
            "1    5.1\n",
            "2    3.2\n",
            "3    8.5\n",
            "4    3.5\n",
            "\n",
            "predicted data:\n",
            "[26.92318188 52.3402707  33.76624426 85.57800223 36.69898527]\n",
            "\n",
            "test labels:\n",
            "0    21\n",
            "1    47\n",
            "2    27\n",
            "3    75\n",
            "4    30\n",
            "Name: Scores, dtype: int64\n"
          ],
          "name": "stdout"
        }
      ]
    },
    {
      "cell_type": "code",
      "metadata": {
        "colab": {
          "base_uri": "https://localhost:8080/"
        },
        "id": "ph4ISP4pI-XG",
        "outputId": "047cd87c-d756-46fd-c3d3-a4b44dd2a239"
      },
      "source": [
        "# Evaluation matrices\n",
        "from sklearn.metrics import accuracy_score\n",
        "from sklearn.metrics import mean_squared_error\n",
        "\n",
        "# Getting the error of the model\n",
        "error=np.sqrt(mean_squared_error(test_labels,learner.predict(test_data)))\n",
        "print(\"RMS Error is: \",error)\n",
        "\n",
        "# printing the Accuracy\n",
        "accuracy=learner.score(features,target)\n",
        "print(\"Accuracy is: \",accuracy*100)"
      ],
      "execution_count": 25,
      "outputs": [
        {
          "output_type": "stream",
          "text": [
            "RMS Error is:  7.2959601270732914\n",
            "Accuracy is:  95.29481969048355\n"
          ],
          "name": "stdout"
        }
      ]
    },
    {
      "cell_type": "code",
      "metadata": {
        "colab": {
          "base_uri": "https://localhost:8080/"
        },
        "id": "LxuCPNOtR3ew",
        "outputId": "b1c774a8-11e9-413a-f2df-6be325018033"
      },
      "source": [
        "# Predicting a new output\n",
        "print(learner.predict([[7.8]]))"
      ],
      "execution_count": 28,
      "outputs": [
        {
          "output_type": "stream",
          "text": [
            "[78.73493985]\n"
          ],
          "name": "stdout"
        }
      ]
    },
    {
      "cell_type": "markdown",
      "metadata": {
        "id": "sFwPuCVARdUV"
      },
      "source": [
        "Result:\n",
        "\n",
        "Implementation of Linear Regression algorithm to predict students score using the given dataset has been successfully implemented."
      ]
    }
  ]
}